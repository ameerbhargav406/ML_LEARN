{
 "cells": [
  {
   "cell_type": "code",
   "execution_count": 27,
   "metadata": {},
   "outputs": [],
   "source": [
    "import numpy as np\n",
    "import pandas as pd"
   ]
  },
  {
   "cell_type": "markdown",
   "metadata": {},
   "source": [
    "#### Reading the datasheet\n"
   ]
  },
  {
   "cell_type": "code",
   "execution_count": 28,
   "metadata": {},
   "outputs": [],
   "source": [
    "Laliga_data = pd.read_csv(\"Laliga.csv\", sep = ',', header=1)"
   ]
  },
  {
   "cell_type": "code",
   "execution_count": 29,
   "metadata": {},
   "outputs": [
    {
     "name": "stdout",
     "output_type": "stream",
     "text": [
      "Printing the tail\n",
      "     Pos              Team  Seasons Points GamesPlayed GamesWon GamesDrawn  \\\n",
      "56   57             Xerez        1     34          38        8         10   \n",
      "57   58            Condal        1     22          30        7          8   \n",
      "58   59   Atletico Tetuan        1     19          30        7          5   \n",
      "59   60  Cultural Leonesa        1     14          30        5          4   \n",
      "60   61            Girona        1      -           -        -          -   \n",
      "\n",
      "   GamesLost GoalsFor GoalsAgainst Champion Runner-up Third Fourth Fifth  \\\n",
      "56        20       38           66        -         -     -      -     -   \n",
      "57        15       37           57        -         -     -      -     -   \n",
      "58        18       51           85        -         -     -      -     -   \n",
      "59        21       34           65        -         -     -      -     -   \n",
      "60         -        -            -        -         -     -      -     -   \n",
      "\n",
      "   Sixth  T    Debut Since/LastApp  BestPosition  \n",
      "56     -  -  2009-10       2009-10            20  \n",
      "57     -  -  1956-57       1956-57            16  \n",
      "58     -  -  1951-52       1951-52            16  \n",
      "59     -  -  1955-56       1955-56            15  \n",
      "60     -  -  2017-18       2017-18             9  \n"
     ]
    }
   ],
   "source": [
    "print(\"Printing the tail\\n\",Laliga_data.tail())"
   ]
  },
  {
   "cell_type": "markdown",
   "metadata": {},
   "source": [
    "#### Replacing '-' with zeros"
   ]
  },
  {
   "cell_type": "code",
   "execution_count": 30,
   "metadata": {},
   "outputs": [],
   "source": [
    "Laliga_subset = Laliga_data.drop(['Seasons','Pos','Team', 'Debut' , 'Since/LastApp'], axis = 1)"
   ]
  },
  {
   "cell_type": "code",
   "execution_count": 31,
   "metadata": {},
   "outputs": [],
   "source": [
    "Laliga_subset = Laliga_subset.replace({'-':0}).astype(int)"
   ]
  },
  {
   "cell_type": "code",
   "execution_count": 32,
   "metadata": {},
   "outputs": [],
   "source": [
    "clmns = Laliga_subset.columns\n",
    "for i in range(len(clmns)):\n",
    "    Laliga_data[clmns[i]] = Laliga_subset[clmns[i]]"
   ]
  },
  {
   "cell_type": "code",
   "execution_count": 33,
   "metadata": {},
   "outputs": [
    {
     "name": "stdout",
     "output_type": "stream",
     "text": [
      "Printing the tail\n",
      "     Pos              Team  Seasons  Points  GamesPlayed  GamesWon  GamesDrawn  \\\n",
      "56   57             Xerez        1      34           38         8          10   \n",
      "57   58            Condal        1      22           30         7           8   \n",
      "58   59   Atletico Tetuan        1      19           30         7           5   \n",
      "59   60  Cultural Leonesa        1      14           30         5           4   \n",
      "60   61            Girona        1       0            0         0           0   \n",
      "\n",
      "    GamesLost  GoalsFor  GoalsAgainst  Champion  Runner-up  Third  Fourth  \\\n",
      "56         20        38            66         0          0      0       0   \n",
      "57         15        37            57         0          0      0       0   \n",
      "58         18        51            85         0          0      0       0   \n",
      "59         21        34            65         0          0      0       0   \n",
      "60          0         0             0         0          0      0       0   \n",
      "\n",
      "    Fifth  Sixth  T    Debut Since/LastApp  BestPosition  \n",
      "56      0      0  0  2009-10       2009-10            20  \n",
      "57      0      0  0  1956-57       1956-57            16  \n",
      "58      0      0  0  1951-52       1951-52            16  \n",
      "59      0      0  0  1955-56       1955-56            15  \n",
      "60      0      0  0  2017-18       2017-18             9  \n"
     ]
    }
   ],
   "source": [
    "Laliga_subset = []\n",
    "print(\"Printing the tail\\n\",Laliga_data.tail())"
   ]
  },
  {
   "cell_type": "markdown",
   "metadata": {},
   "source": [
    "###### To know Temas debut between 1930 and 1980\n"
   ]
  },
  {
   "cell_type": "code",
   "execution_count": 34,
   "metadata": {},
   "outputs": [
    {
     "name": "stderr",
     "output_type": "stream",
     "text": [
      "C:\\Users\\Star\\Anaconda3\\lib\\site-packages\\IPython\\core\\interactiveshell.py:3325: SettingWithCopyWarning: \n",
      "A value is trying to be set on a copy of a slice from a DataFrame\n",
      "\n",
      "See the caveats in the documentation: http://pandas.pydata.org/pandas-docs/stable/indexing.html#indexing-view-versus-copy\n",
      "  exec(code_obj, self.user_global_ns, self.user_ns)\n"
     ]
    }
   ],
   "source": [
    "Laliga_debut = Laliga_data[['Team', \"Debut\"]]\n",
    "for i in range(len(Laliga_debut['Debut'])):\n",
    "    temp = Laliga_debut['Debut'][i].split('-')\n",
    "    if(len(temp)>1):\n",
    "        Laliga_debut['Debut'][i] = temp[0]"
   ]
  },
  {
   "cell_type": "code",
   "execution_count": 35,
   "metadata": {},
   "outputs": [
    {
     "name": "stderr",
     "output_type": "stream",
     "text": [
      "C:\\Users\\Star\\Anaconda3\\lib\\site-packages\\ipykernel_launcher.py:1: SettingWithCopyWarning: \n",
      "A value is trying to be set on a copy of a slice from a DataFrame.\n",
      "Try using .loc[row_indexer,col_indexer] = value instead\n",
      "\n",
      "See the caveats in the documentation: http://pandas.pydata.org/pandas-docs/stable/indexing.html#indexing-view-versus-copy\n",
      "  \"\"\"Entry point for launching an IPython kernel.\n"
     ]
    }
   ],
   "source": [
    "Laliga_debut['Debut'] = Laliga_debut['Debut'].astype(int)"
   ]
  },
  {
   "cell_type": "code",
   "execution_count": 36,
   "metadata": {},
   "outputs": [],
   "source": [
    "Laliga_debut = Laliga_data[(Laliga_debut['Debut'] >= 1930) & (Laliga_debut['Debut'] <= 1980)]"
   ]
  },
  {
   "cell_type": "code",
   "execution_count": 37,
   "metadata": {},
   "outputs": [
    {
     "name": "stdout",
     "output_type": "stream",
     "text": [
      "Teams debut between 1930 and 1980 are \n",
      " 3                Valencia\n",
      "5                 Sevilla\n",
      "8                Zaragoza\n",
      "9              Real Betis\n",
      "10    Deportivo La Coruna\n",
      "11             Celta Vigo\n",
      "12             Valladolid\n",
      "14         Sporting Gijon\n",
      "15                Osasuna\n",
      "16                 Malaga\n",
      "17                 Oviedo\n",
      "18               Mallorca\n",
      "19             Las Palmas\n",
      "21                Granada\n",
      "22         Rayo Vallecano\n",
      "23                  Elche\n",
      "25               Hercules\n",
      "26               Tenerife\n",
      "27                 Murcia\n",
      "28                 Alaves\n",
      "29                Levante\n",
      "30              Salamanca\n",
      "31               Sabadell\n",
      "32                  Cadiz\n",
      "34              Castellon\n",
      "37                Cordoba\n",
      "39             Recreativo\n",
      "40              Burgos CF\n",
      "41             Pontevedra\n",
      "46              Gimnastic\n",
      "49               Alcoyano\n",
      "50                   Jaen\n",
      "52             AD Almeria\n",
      "54                 Lleida\n",
      "57                 Condal\n",
      "58        Atletico Tetuan\n",
      "59       Cultural Leonesa\n",
      "Name: Team, dtype: object\n"
     ]
    }
   ],
   "source": [
    "print(\"Teams debut between 1930 and 1980 are \\n\", Laliga_debut['Team'])\n",
    "Laliga_debut = []"
   ]
  },
  {
   "cell_type": "markdown",
   "metadata": {},
   "source": [
    "##### Print the list of teams which came Top 5 in terms of points"
   ]
  },
  {
   "cell_type": "code",
   "execution_count": 38,
   "metadata": {},
   "outputs": [
    {
     "name": "stdout",
     "output_type": "stream",
     "text": [
      "List of teams which came Top 5 in terms of points \n",
      " 0        Real Madrid\n",
      "1          Barcelona\n",
      "2    Atletico Madrid\n",
      "3           Valencia\n",
      "4    Athletic Bilbao\n",
      "Name: Team, dtype: object\n"
     ]
    }
   ],
   "source": [
    "sort_points = Laliga_data.sort_values(by=['Points'], ascending = False)\n",
    "sort_points = sort_points.reset_index(drop=True)\n",
    "print(\"List of teams which came Top 5 in terms of points \\n\",sort_points['Team'].head(5) )"
   ]
  },
  {
   "cell_type": "markdown",
   "metadata": {},
   "source": [
    "#### function with name “Goal_diff_count” which should return all the teams with their Goal Differences. Using the same function, find the team which has maximum and minimum goal difference"
   ]
  },
  {
   "cell_type": "code",
   "execution_count": 39,
   "metadata": {},
   "outputs": [
    {
     "name": "stdout",
     "output_type": "stream",
     "text": [
      "Minimum goal difference is \n",
      " ['Racing Santander']\n",
      "Maximum goal difference is \n",
      " ['Real Madrid']\n"
     ]
    }
   ],
   "source": [
    "def Goal_diff_count():\n",
    "    return Laliga_data['GoalsFor']-Laliga_data['GoalsAgainst']\n",
    "Laliga_goal_diff = Laliga_data\n",
    "Laliga_goal_diff['GoalDiff'] = Goal_diff_count()\n",
    "Laliga_goal_diff = Laliga_goal_diff.sort_values(by=['GoalDiff'])\n",
    "Laliga_goal_diff = Laliga_goal_diff.reset_index(drop=True)\n",
    "Laliga_goal_diff.drop('GoalDiff', axis=1)\n",
    "print(\"Minimum goal difference is \\n\",list(Laliga_goal_diff['Team'].head(1)))\n",
    "print(\"Maximum goal difference is \\n\",list(Laliga_goal_diff['Team'].tail(1)))\n"
   ]
  },
  {
   "cell_type": "markdown",
   "metadata": {},
   "source": [
    "#### Create a new column with name “Winning Percent” and append it to the data set"
   ]
  },
  {
   "cell_type": "code",
   "execution_count": 40,
   "metadata": {},
   "outputs": [],
   "source": [
    "Laliga_data['Winning Percent'] = ((Laliga_data['GamesWon'] / Laliga_data['GamesPlayed'])*100)"
   ]
  },
  {
   "cell_type": "code",
   "execution_count": 41,
   "metadata": {},
   "outputs": [
    {
     "data": {
      "text/plain": [
       "56    21.052632\n",
       "57    23.333333\n",
       "58    23.333333\n",
       "59    16.666667\n",
       "60          NaN\n",
       "Name: Winning Percent, dtype: float64"
      ]
     },
     "execution_count": 41,
     "metadata": {},
     "output_type": "execute_result"
    }
   ],
   "source": [
    "Laliga_data['Winning Percent'].tail()"
   ]
  },
  {
   "cell_type": "code",
   "execution_count": 42,
   "metadata": {},
   "outputs": [
    {
     "data": {
      "text/html": [
       "<div>\n",
       "<style scoped>\n",
       "    .dataframe tbody tr th:only-of-type {\n",
       "        vertical-align: middle;\n",
       "    }\n",
       "\n",
       "    .dataframe tbody tr th {\n",
       "        vertical-align: top;\n",
       "    }\n",
       "\n",
       "    .dataframe thead th {\n",
       "        text-align: right;\n",
       "    }\n",
       "</style>\n",
       "<table border=\"1\" class=\"dataframe\">\n",
       "  <thead>\n",
       "    <tr style=\"text-align: right;\">\n",
       "      <th></th>\n",
       "      <th>Pos</th>\n",
       "      <th>Team</th>\n",
       "      <th>Seasons</th>\n",
       "      <th>Points</th>\n",
       "      <th>GamesPlayed</th>\n",
       "      <th>GamesWon</th>\n",
       "      <th>GamesDrawn</th>\n",
       "      <th>GamesLost</th>\n",
       "      <th>GoalsFor</th>\n",
       "      <th>GoalsAgainst</th>\n",
       "      <th>...</th>\n",
       "      <th>Third</th>\n",
       "      <th>Fourth</th>\n",
       "      <th>Fifth</th>\n",
       "      <th>Sixth</th>\n",
       "      <th>T</th>\n",
       "      <th>Debut</th>\n",
       "      <th>Since/LastApp</th>\n",
       "      <th>BestPosition</th>\n",
       "      <th>GoalDiff</th>\n",
       "      <th>Winning Percent</th>\n",
       "    </tr>\n",
       "  </thead>\n",
       "  <tbody>\n",
       "    <tr>\n",
       "      <th>56</th>\n",
       "      <td>57</td>\n",
       "      <td>Xerez</td>\n",
       "      <td>1</td>\n",
       "      <td>34</td>\n",
       "      <td>38</td>\n",
       "      <td>8</td>\n",
       "      <td>10</td>\n",
       "      <td>20</td>\n",
       "      <td>38</td>\n",
       "      <td>66</td>\n",
       "      <td>...</td>\n",
       "      <td>0</td>\n",
       "      <td>0</td>\n",
       "      <td>0</td>\n",
       "      <td>0</td>\n",
       "      <td>0</td>\n",
       "      <td>2009-10</td>\n",
       "      <td>2009-10</td>\n",
       "      <td>20</td>\n",
       "      <td>-28</td>\n",
       "      <td>21.052632</td>\n",
       "    </tr>\n",
       "    <tr>\n",
       "      <th>57</th>\n",
       "      <td>58</td>\n",
       "      <td>Condal</td>\n",
       "      <td>1</td>\n",
       "      <td>22</td>\n",
       "      <td>30</td>\n",
       "      <td>7</td>\n",
       "      <td>8</td>\n",
       "      <td>15</td>\n",
       "      <td>37</td>\n",
       "      <td>57</td>\n",
       "      <td>...</td>\n",
       "      <td>0</td>\n",
       "      <td>0</td>\n",
       "      <td>0</td>\n",
       "      <td>0</td>\n",
       "      <td>0</td>\n",
       "      <td>1956-57</td>\n",
       "      <td>1956-57</td>\n",
       "      <td>16</td>\n",
       "      <td>-20</td>\n",
       "      <td>23.333333</td>\n",
       "    </tr>\n",
       "    <tr>\n",
       "      <th>58</th>\n",
       "      <td>59</td>\n",
       "      <td>Atletico Tetuan</td>\n",
       "      <td>1</td>\n",
       "      <td>19</td>\n",
       "      <td>30</td>\n",
       "      <td>7</td>\n",
       "      <td>5</td>\n",
       "      <td>18</td>\n",
       "      <td>51</td>\n",
       "      <td>85</td>\n",
       "      <td>...</td>\n",
       "      <td>0</td>\n",
       "      <td>0</td>\n",
       "      <td>0</td>\n",
       "      <td>0</td>\n",
       "      <td>0</td>\n",
       "      <td>1951-52</td>\n",
       "      <td>1951-52</td>\n",
       "      <td>16</td>\n",
       "      <td>-34</td>\n",
       "      <td>23.333333</td>\n",
       "    </tr>\n",
       "    <tr>\n",
       "      <th>59</th>\n",
       "      <td>60</td>\n",
       "      <td>Cultural Leonesa</td>\n",
       "      <td>1</td>\n",
       "      <td>14</td>\n",
       "      <td>30</td>\n",
       "      <td>5</td>\n",
       "      <td>4</td>\n",
       "      <td>21</td>\n",
       "      <td>34</td>\n",
       "      <td>65</td>\n",
       "      <td>...</td>\n",
       "      <td>0</td>\n",
       "      <td>0</td>\n",
       "      <td>0</td>\n",
       "      <td>0</td>\n",
       "      <td>0</td>\n",
       "      <td>1955-56</td>\n",
       "      <td>1955-56</td>\n",
       "      <td>15</td>\n",
       "      <td>-31</td>\n",
       "      <td>16.666667</td>\n",
       "    </tr>\n",
       "    <tr>\n",
       "      <th>60</th>\n",
       "      <td>61</td>\n",
       "      <td>Girona</td>\n",
       "      <td>1</td>\n",
       "      <td>0</td>\n",
       "      <td>0</td>\n",
       "      <td>0</td>\n",
       "      <td>0</td>\n",
       "      <td>0</td>\n",
       "      <td>0</td>\n",
       "      <td>0</td>\n",
       "      <td>...</td>\n",
       "      <td>0</td>\n",
       "      <td>0</td>\n",
       "      <td>0</td>\n",
       "      <td>0</td>\n",
       "      <td>0</td>\n",
       "      <td>2017-18</td>\n",
       "      <td>2017-18</td>\n",
       "      <td>9</td>\n",
       "      <td>0</td>\n",
       "      <td>0.000000</td>\n",
       "    </tr>\n",
       "  </tbody>\n",
       "</table>\n",
       "<p>5 rows × 22 columns</p>\n",
       "</div>"
      ],
      "text/plain": [
       "    Pos              Team  Seasons  Points  GamesPlayed  GamesWon  GamesDrawn  \\\n",
       "56   57             Xerez        1      34           38         8          10   \n",
       "57   58            Condal        1      22           30         7           8   \n",
       "58   59   Atletico Tetuan        1      19           30         7           5   \n",
       "59   60  Cultural Leonesa        1      14           30         5           4   \n",
       "60   61            Girona        1       0            0         0           0   \n",
       "\n",
       "    GamesLost  GoalsFor  GoalsAgainst  ...  Third  Fourth  Fifth  Sixth  T  \\\n",
       "56         20        38            66  ...      0       0      0      0  0   \n",
       "57         15        37            57  ...      0       0      0      0  0   \n",
       "58         18        51            85  ...      0       0      0      0  0   \n",
       "59         21        34            65  ...      0       0      0      0  0   \n",
       "60          0         0             0  ...      0       0      0      0  0   \n",
       "\n",
       "      Debut  Since/LastApp BestPosition GoalDiff  Winning Percent  \n",
       "56  2009-10        2009-10           20      -28        21.052632  \n",
       "57  1956-57        1956-57           16      -20        23.333333  \n",
       "58  1951-52        1951-52           16      -34        23.333333  \n",
       "59  1955-56        1955-56           15      -31        16.666667  \n",
       "60  2017-18        2017-18            9        0         0.000000  \n",
       "\n",
       "[5 rows x 22 columns]"
      ]
     },
     "execution_count": 42,
     "metadata": {},
     "output_type": "execute_result"
    }
   ],
   "source": [
    "Laliga_data.replace({np.nan:0}).tail()"
   ]
  },
  {
   "cell_type": "markdown",
   "metadata": {},
   "source": [
    "###### Group teams based on their “Best position” and print the sum of their points for all positions"
   ]
  },
  {
   "cell_type": "code",
   "execution_count": 43,
   "metadata": {},
   "outputs": [
    {
     "name": "stderr",
     "output_type": "stream",
     "text": [
      "C:\\Users\\Star\\Anaconda3\\lib\\site-packages\\ipykernel_launcher.py:2: SettingWithCopyWarning: \n",
      "A value is trying to be set on a copy of a slice from a DataFrame\n",
      "\n",
      "See the caveats in the documentation: http://pandas.pydata.org/pandas-docs/stable/indexing.html#indexing-view-versus-copy\n",
      "  \n"
     ]
    }
   ],
   "source": [
    "best_position = Laliga_data[['Team', 'Points','BestPosition']]\n",
    "best_position.sort_values(by=['BestPosition'], inplace=True)\n",
    "best_position = best_position.reset_index(drop=True)"
   ]
  },
  {
   "cell_type": "code",
   "execution_count": 44,
   "metadata": {},
   "outputs": [
    {
     "name": "stdout",
     "output_type": "stream",
     "text": [
      "Best Position\tPoints\n",
      "\t 1 \t 27933\n",
      "\t 2 \t 6904\n",
      "\t 3 \t 5221\n",
      "\t 4 \t 6563\n",
      "\t 5 \t 1884\n",
      "\t 6 \t 2113\n",
      "\t 7 \t 1186\n",
      "\t 8 \t 1134\n",
      "\t 9 \t 96\n",
      "\t 10 \t 450\n",
      "\t 11 \t 445\n",
      "\t 12 \t 511\n",
      "\t 14 \t 71\n",
      "\t 15 \t 14\n",
      "\t 16 \t 81\n",
      "\t 17 \t 266\n",
      "\t 19 \t 81\n",
      "\t 20 \t 34\n"
     ]
    }
   ],
   "source": [
    "temp_position = best_position['BestPosition'][0]\n",
    "total_sum = 0\n",
    "print(\"Best Position\\tPoints\")\n",
    "for i in range(len(best_position['BestPosition'])):\n",
    "    if best_position['BestPosition'][i] == temp_position:\n",
    "        total_sum += best_position['Points'][i]\n",
    "    else:\n",
    "        print(\"\\t\",temp_position,\"\\t\",total_sum)\n",
    "        temp_position = best_position['BestPosition'][i]\n",
    "        total_sum = best_position['Points'][i]\n",
    "        \n",
    "print(\"\\t\",temp_position,\"\\t\",total_sum)\n",
    "best_position = []"
   ]
  },
  {
   "cell_type": "code",
   "execution_count": null,
   "metadata": {},
   "outputs": [],
   "source": []
  },
  {
   "cell_type": "code",
   "execution_count": null,
   "metadata": {},
   "outputs": [],
   "source": []
  }
 ],
 "metadata": {
  "kernelspec": {
   "display_name": "Python 3",
   "language": "python",
   "name": "python3"
  },
  "language_info": {
   "codemirror_mode": {
    "name": "ipython",
    "version": 3
   },
   "file_extension": ".py",
   "mimetype": "text/x-python",
   "name": "python",
   "nbconvert_exporter": "python",
   "pygments_lexer": "ipython3",
   "version": "3.7.3"
  }
 },
 "nbformat": 4,
 "nbformat_minor": 2
}
